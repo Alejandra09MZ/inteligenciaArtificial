{
  "nbformat": 4,
  "nbformat_minor": 0,
  "metadata": {
    "colab": {
      "provenance": [],
      "authorship_tag": "ABX9TyNY3bNCeaQyMxLlW4sj4DNX",
      "include_colab_link": true
    },
    "kernelspec": {
      "name": "python3",
      "display_name": "Python 3"
    },
    "language_info": {
      "name": "python"
    }
  },
  "cells": [
    {
      "cell_type": "markdown",
      "metadata": {
        "id": "view-in-github",
        "colab_type": "text"
      },
      "source": [
        "<a href=\"https://colab.research.google.com/github/Alejandra09MZ/inteligenciaArtificial/blob/main/Lecci%C3%B3n.ipynb\" target=\"_parent\"><img src=\"https://colab.research.google.com/assets/colab-badge.svg\" alt=\"Open In Colab\"/></a>"
      ]
    },
    {
      "cell_type": "code",
      "execution_count": null,
      "metadata": {
        "colab": {
          "base_uri": "https://localhost:8080/"
        },
        "id": "uaXZb2P_4Jgf",
        "outputId": "8500bf2b-cc92-495c-8969-208edf19f6e2"
      },
      "outputs": [
        {
          "output_type": "stream",
          "name": "stdout",
          "text": [
            "1.25.2\n",
            "[0 1 2 3 4 5 6 7 8 9]\n"
          ]
        }
      ],
      "source": [
        "# EJERCICIO 1\n",
        "import numpy as np\n",
        "print(np.__version__)\n"
      ]
    },
    {
      "cell_type": "code",
      "source": [
        "# EJERCICIO 2\n",
        "import numpy as np\n",
        "a = np.arange(10)\n",
        "print(a)\n"
      ],
      "metadata": {
        "colab": {
          "base_uri": "https://localhost:8080/"
        },
        "id": "KKyLUamQBBdd",
        "outputId": "b42e805f-141b-4587-b9a0-0f78b0a010ce"
      },
      "execution_count": null,
      "outputs": [
        {
          "output_type": "stream",
          "name": "stdout",
          "text": [
            "[0 1 2 3 4 5 6 7 8 9]\n"
          ]
        }
      ]
    },
    {
      "cell_type": "code",
      "source": [
        "# EJERCICIO 3\n",
        "import numpy as np\n",
        "\n",
        "vector = np.random.randint(0, 100, 10)\n",
        "print(\"Vector original:\", vector)\n",
        "\n",
        "indice_maximo = np.argmax(vector)\n",
        "vector[indice_maximo] = 0\n",
        "print(\"Vector modificado:\", vector)"
      ],
      "metadata": {
        "colab": {
          "base_uri": "https://localhost:8080/"
        },
        "id": "1Yq4YX_OCHx6",
        "outputId": "bcf33e23-ebb5-4c00-fd8f-ded5830efe23"
      },
      "execution_count": null,
      "outputs": [
        {
          "output_type": "stream",
          "name": "stdout",
          "text": [
            "Vector original: [44 10  3 18 88  0 96 41 61 72]\n",
            "Vector modificado: [44 10  3 18 88  0  0 41 61 72]\n"
          ]
        }
      ]
    },
    {
      "cell_type": "code",
      "source": [
        "# EJERCICIO 4\n",
        "import numpy as np\n",
        "arr = np.array([[1,2,3,4,5],[6,7,8,9,10]])\n",
        "print(arr[1, 2])"
      ],
      "metadata": {
        "colab": {
          "base_uri": "https://localhost:8080/"
        },
        "id": "A32TV0yXEqBe",
        "outputId": "f91581d1-2f72-4bad-ed2f-b20476329740"
      },
      "execution_count": null,
      "outputs": [
        {
          "output_type": "stream",
          "name": "stdout",
          "text": [
            "8\n"
          ]
        }
      ]
    },
    {
      "cell_type": "code",
      "source": [
        "# EJERCICIO 5\n",
        "arr = np.array([1,2,3,4,5,6,7])\n",
        "print(arr[2:5])"
      ],
      "metadata": {
        "colab": {
          "base_uri": "https://localhost:8080/"
        },
        "id": "VokQ7u5fFtE2",
        "outputId": "fca143f8-badf-4ce6-d9f4-e8b84ddc4a4f"
      },
      "execution_count": null,
      "outputs": [
        {
          "output_type": "stream",
          "name": "stdout",
          "text": [
            "[3 4 5]\n"
          ]
        }
      ]
    },
    {
      "cell_type": "code",
      "source": [
        "# EJERCICIO 6\n",
        "arr = np.array([1,2,3,4,5,6,7])\n",
        "print(arr[3:])"
      ],
      "metadata": {
        "colab": {
          "base_uri": "https://localhost:8080/"
        },
        "id": "8jCXoNJOGL3q",
        "outputId": "f30f1ff6-0a4f-4c9f-f51d-771b174a3369"
      },
      "execution_count": null,
      "outputs": [
        {
          "output_type": "stream",
          "name": "stdout",
          "text": [
            "[4 5 6 7]\n"
          ]
        }
      ]
    },
    {
      "cell_type": "code",
      "source": [
        "# EJERCICIO 7\n",
        "b=np.eye(3,3)\n",
        "print(b)"
      ],
      "metadata": {
        "colab": {
          "base_uri": "https://localhost:8080/"
        },
        "id": "dsd3r4zdGs7y",
        "outputId": "f16723ff-7365-4ebd-94c7-5b7e2c2ed4b9"
      },
      "execution_count": null,
      "outputs": [
        {
          "output_type": "stream",
          "name": "stdout",
          "text": [
            "[[1. 0. 0.]\n",
            " [0. 1. 0.]\n",
            " [0. 0. 1.]]\n"
          ]
        }
      ]
    },
    {
      "cell_type": "code",
      "source": [
        "# EJERCICIO 8\n",
        "import numpy as np\n",
        "a = np.arange(10)\n",
        "print(a)\n",
        "impares = a[a % 2 != 0]\n",
        "print(\"Números impares son:\", impares)"
      ],
      "metadata": {
        "colab": {
          "base_uri": "https://localhost:8080/"
        },
        "id": "xvHleaydHfBc",
        "outputId": "d854db52-05e9-42f1-e8d9-08c7b7d92190"
      },
      "execution_count": null,
      "outputs": [
        {
          "output_type": "stream",
          "name": "stdout",
          "text": [
            "[0 1 2 3 4 5 6 7 8 9]\n",
            "Números impares son: [1 3 5 7 9]\n"
          ]
        }
      ]
    },
    {
      "cell_type": "code",
      "source": [
        "# EJERCICIO 9\n",
        "import numpy as np\n",
        "\n",
        "vector = np.arange(10, 50)\n",
        "print(vector)"
      ],
      "metadata": {
        "colab": {
          "base_uri": "https://localhost:8080/"
        },
        "id": "jhi-K5C_H2iX",
        "outputId": "b0aed3e1-e3fa-41fa-c3f8-f9249b22f1e4"
      },
      "execution_count": null,
      "outputs": [
        {
          "output_type": "stream",
          "name": "stdout",
          "text": [
            "[10 11 12 13 14 15 16 17 18 19 20 21 22 23 24 25 26 27 28 29 30 31 32 33\n",
            " 34 35 36 37 38 39 40 41 42 43 44 45 46 47 48 49]\n"
          ]
        }
      ]
    },
    {
      "cell_type": "code",
      "source": [
        "# EJERCICIO 10\n",
        "vector = np.arange(10, 50)\n",
        "print(\"Vector original:\", vector)\n",
        "\n",
        "primer_elemento = vector[0]\n",
        "vector = vector[1:]\n",
        "print(vector)\n",
        "vector = np.append(vector, primer_elemento)\n",
        "print(\"Vector modificado:\", vector)"
      ],
      "metadata": {
        "id": "BRCGkMGjIF6e",
        "colab": {
          "base_uri": "https://localhost:8080/"
        },
        "outputId": "ef102288-e087-4753-cc91-beb0e20129df"
      },
      "execution_count": null,
      "outputs": [
        {
          "output_type": "stream",
          "name": "stdout",
          "text": [
            "Vector original: [10 11 12 13 14 15 16 17 18 19 20 21 22 23 24 25 26 27 28 29 30 31 32 33\n",
            " 34 35 36 37 38 39 40 41 42 43 44 45 46 47 48 49]\n",
            "[11 12 13 14 15 16 17 18 19 20 21 22 23 24 25 26 27 28 29 30 31 32 33 34\n",
            " 35 36 37 38 39 40 41 42 43 44 45 46 47 48 49]\n",
            "Vector modificado: [11 12 13 14 15 16 17 18 19 20 21 22 23 24 25 26 27 28 29 30 31 32 33 34\n",
            " 35 36 37 38 39 40 41 42 43 44 45 46 47 48 49 10]\n"
          ]
        }
      ]
    },
    {
      "cell_type": "code",
      "source": [
        "# EJERCICIO 11\n",
        "import numpy as np\n",
        "matrix = np.random.rand(10, 10)\n",
        "\n",
        "max_value = np.max(matrix)\n",
        "min_value = np.min(matrix)\n",
        "\n",
        "print(\"Matriz:\")\n",
        "print(matrix)\n",
        "print(\"Valor máximo:\", max_value)\n",
        "print(\"Valor mínimo:\", min_value)"
      ],
      "metadata": {
        "id": "ziSMQ5VtId_U",
        "colab": {
          "base_uri": "https://localhost:8080/"
        },
        "outputId": "fa71ffc2-f9fd-4f52-97d3-ae899a3a7cb7"
      },
      "execution_count": null,
      "outputs": [
        {
          "output_type": "stream",
          "name": "stdout",
          "text": [
            "Matriz:\n",
            "[[8.16167744e-01 3.97538878e-01 5.72126920e-02 3.65255885e-01\n",
            "  2.30205481e-01 5.40504914e-01 1.43837261e-01 4.57763067e-01\n",
            "  6.99630683e-01 4.91877024e-01]\n",
            " [5.91744244e-01 8.53411340e-01 7.57084319e-02 4.00952263e-01\n",
            "  4.90429615e-01 3.46009890e-01 6.97866353e-03 7.44354832e-02\n",
            "  4.50282078e-01 5.20475662e-01]\n",
            " [3.52805482e-01 8.84165807e-03 3.33455972e-01 6.62996519e-01\n",
            "  8.99812180e-01 8.08977212e-02 8.06264173e-01 3.36191577e-01\n",
            "  9.18376129e-01 5.77740386e-01]\n",
            " [8.47570829e-04 8.13170156e-01 6.14037918e-01 2.93192641e-01\n",
            "  9.27809544e-01 2.02225784e-01 1.44203679e-01 5.22383717e-01\n",
            "  3.89042917e-01 4.52117036e-01]\n",
            " [5.89222243e-01 3.55472979e-01 7.50215441e-01 9.46308588e-01\n",
            "  5.15756808e-01 8.37654491e-01 8.63317561e-01 3.16887524e-01\n",
            "  5.33942254e-01 5.94188964e-01]\n",
            " [3.29704118e-01 4.85065014e-01 4.00904649e-01 3.11238461e-01\n",
            "  1.00074707e-01 4.66087831e-02 1.13627196e-01 4.89876488e-02\n",
            "  2.84136038e-01 7.23898509e-01]\n",
            " [1.06173290e-01 8.32655663e-01 4.99272556e-01 7.03646519e-01\n",
            "  7.51945423e-01 9.34443580e-01 4.60413838e-01 4.47792869e-01\n",
            "  7.95395347e-02 5.32058705e-01]\n",
            " [1.98132580e-01 5.73542745e-01 4.01212850e-01 1.13696703e-01\n",
            "  8.96978925e-01 7.50133944e-02 9.40979399e-02 9.56527086e-01\n",
            "  4.26291527e-01 7.76590822e-01]\n",
            " [4.55621734e-01 8.04760539e-02 1.53042951e-01 4.00063937e-01\n",
            "  4.87014504e-01 2.78271402e-02 8.73894709e-01 6.74748419e-01\n",
            "  9.96507305e-01 8.00751323e-01]\n",
            " [9.18605240e-01 8.58982708e-01 6.93704875e-01 5.05651936e-01\n",
            "  7.19393768e-01 6.64676435e-01 9.37499522e-01 9.41493575e-01\n",
            "  1.91894680e-01 6.35478945e-01]]\n",
            "Valor máximo: 0.9965073051012406\n",
            "Valor mínimo: 0.0008475708285503591\n"
          ]
        }
      ]
    },
    {
      "cell_type": "code",
      "source": [
        "# EJERCICIO 12\n",
        "# Create a 3x3x3 array with random values\n",
        "import numpy as np\n",
        "matriz_valores_aleatorios = np.random.rand(3, 3, 3)\n",
        "print(matriz_valores_aleatorios)"
      ],
      "metadata": {
        "colab": {
          "base_uri": "https://localhost:8080/"
        },
        "id": "zsv2oCJEBI4k",
        "outputId": "edca6940-acd1-4e17-c0f1-c5c6e02ea280"
      },
      "execution_count": null,
      "outputs": [
        {
          "output_type": "stream",
          "name": "stdout",
          "text": [
            "[[[0.63699183 0.1708362  0.98188542]\n",
            "  [0.5942432  0.66440304 0.01896668]\n",
            "  [0.97477976 0.55137698 0.01571947]]\n",
            "\n",
            " [[0.27412682 0.28975379 0.86798473]\n",
            "  [0.71727137 0.85070947 0.20746581]\n",
            "  [0.66329993 0.52669447 0.74096617]]\n",
            "\n",
            " [[0.25811537 0.62722845 0.60213333]\n",
            "  [0.22797141 0.82160475 0.44589978]\n",
            "  [0.35292531 0.29304359 0.94010191]]]\n"
          ]
        }
      ]
    },
    {
      "cell_type": "code",
      "source": [
        "# EJERCICIO 13\n",
        "# Replace all odd numbers in arr with -1\n",
        "arr = np.array([1,2,3,4,5,6,7])\n",
        "arr[arr % 2 != 0] = -1\n",
        "print(arr)"
      ],
      "metadata": {
        "id": "tr7LXg3SJsIR",
        "colab": {
          "base_uri": "https://localhost:8080/"
        },
        "outputId": "a2fb6521-9ba4-442f-d0d6-2a9db6b70bbc"
      },
      "execution_count": null,
      "outputs": [
        {
          "output_type": "stream",
          "name": "stdout",
          "text": [
            "[-1  2 -1  4 -1  6 -1]\n"
          ]
        }
      ]
    },
    {
      "cell_type": "code",
      "source": [
        "# EJERCICIO 14\n",
        "# Create an array of type float\n",
        "matriz_float = np.random.rand(3, 3).astype(np.float32)\n",
        "print(matriz_float)"
      ],
      "metadata": {
        "colab": {
          "base_uri": "https://localhost:8080/"
        },
        "id": "fYrIHKfsD9su",
        "outputId": "5484dcdb-5adc-486e-8d09-80d70b0dcb99"
      },
      "execution_count": null,
      "outputs": [
        {
          "output_type": "stream",
          "name": "stdout",
          "text": [
            "[[0.494382   0.780589   0.32065332]\n",
            " [0.32552186 0.40454006 0.9858608 ]\n",
            " [0.848899   0.11098775 0.96277004]]\n"
          ]
        }
      ]
    },
    {
      "cell_type": "code",
      "source": [
        "# EJERCICIO 15\n",
        "# Convert a 1D array to a 2D array with 2 rows\n",
        "arr_1d = np.array([1, 2, 3, 4, 5, 6])\n",
        "print(\"Array 1D original:\")\n",
        "print(arr_1d)\n",
        "\n",
        "arr_2d = arr_1d.reshape(2, -1)\n",
        "print(\"Matriz 2D:\")\n",
        "print(arr_2d)"
      ],
      "metadata": {
        "colab": {
          "base_uri": "https://localhost:8080/"
        },
        "id": "NERmFaMYEjBr",
        "outputId": "03817742-39fc-44d1-c5bc-c275df451da0"
      },
      "execution_count": null,
      "outputs": [
        {
          "output_type": "stream",
          "name": "stdout",
          "text": [
            "Array 1D original:\n",
            "[1 2 3 4 5 6]\n",
            "Matriz 2D:\n",
            "[[1 2 3]\n",
            " [4 5 6]]\n"
          ]
        }
      ]
    },
    {
      "cell_type": "code",
      "source": [
        "# EJERCICIO 16\n",
        "# How to find common values between two arrays?\n",
        "Z1 = np.random.randint(0,10,10)\n",
        "Z2 = np.random.randint(0,10,10)\n",
        "\n",
        "valores_comunes = np.intersect1d(Z1, Z2)\n",
        "\n",
        "print(\"Matriz Z1:\", Z1)\n",
        "print(\"Matriz Z2:\", Z2)\n",
        "print(\"Valores comunes:\", valores_comunes)"
      ],
      "metadata": {
        "colab": {
          "base_uri": "https://localhost:8080/"
        },
        "id": "i-vKHUsVFxDY",
        "outputId": "107f0d9c-2a10-4d2e-fb4a-4d0258b8b0ab"
      },
      "execution_count": null,
      "outputs": [
        {
          "output_type": "stream",
          "name": "stdout",
          "text": [
            "Matriz Z1: [3 2 4 2 2 2 9 0 3 8]\n",
            "Matriz Z2: [1 0 3 0 9 9 6 5 0 9]\n",
            "Valores comunes: [0 3 9]\n"
          ]
        }
      ]
    },
    {
      "cell_type": "code",
      "source": [
        "# EJERCICIO 17\n",
        "#  Consider two random array A and B, check if they are equal\n",
        "# A = np.random.randint(0,2,5)\n",
        "# B = np.random.randint(0,2,5)\n",
        "\n",
        "A = np.random.randint(0,2,5)\n",
        "B = np.random.randint(0,2,5)\n",
        "\n",
        "son_iguales = np.array_equal(A, B)\n",
        "\n",
        "print(\"Matriz A:\", A)\n",
        "print(\"Matriz B:\", B)\n",
        "print(\"¿Son iguales?\", son_iguales)"
      ],
      "metadata": {
        "colab": {
          "base_uri": "https://localhost:8080/"
        },
        "id": "7e0386GbGDrY",
        "outputId": "74bc9bbf-8d63-440f-dff5-9aa27100a2f4"
      },
      "execution_count": null,
      "outputs": [
        {
          "output_type": "stream",
          "name": "stdout",
          "text": [
            "Matriz A: [1 0 0 1 0]\n",
            "Matriz B: [0 1 1 0 1]\n",
            "¿Son iguales? False\n"
          ]
        }
      ]
    },
    {
      "cell_type": "code",
      "source": [
        "# EJERCICIO 18\n",
        "# Stack arrays a and b vertically\n",
        "A = np.random.randint(0,2,5)\n",
        "B = np.random.randint(0,2,5)\n",
        "\n",
        "resultado = np.vstack((A, B))\n",
        "\n",
        "print(resultado)"
      ],
      "metadata": {
        "colab": {
          "base_uri": "https://localhost:8080/"
        },
        "id": "muoaCQIaG16H",
        "outputId": "a8d03cd4-3f39-4146-adfb-022865cd5079"
      },
      "execution_count": null,
      "outputs": [
        {
          "output_type": "stream",
          "name": "stdout",
          "text": [
            "[[0 0 0 1 1]\n",
            " [0 1 0 0 0]]\n"
          ]
        }
      ]
    },
    {
      "cell_type": "code",
      "source": [
        "# EJERCICIO 19\n",
        "# Stack the arrays a and b horizontally\n",
        "A = np.random.randint(0,2,5)\n",
        "B = np.random.randint(0,2,5)\n",
        "resultado = np.hstack((A, B))\n",
        "print(resultado)"
      ],
      "metadata": {
        "colab": {
          "base_uri": "https://localhost:8080/"
        },
        "id": "WlUzEfdHH18k",
        "outputId": "eee6ce74-3f83-4678-ffea-85a895a36ed2"
      },
      "execution_count": null,
      "outputs": [
        {
          "output_type": "stream",
          "name": "stdout",
          "text": [
            "[1 1 0 1 0 0 1 1 1 0]\n"
          ]
        }
      ]
    },
    {
      "cell_type": "code",
      "source": [
        "# EJERCICIO 20\n",
        "# Get all items between 5 and 10 from array tmp.\n",
        "# your code here\n",
        "import numpy as np\n",
        "tmp = np.arange(15)\n",
        "resultado = tmp[(tmp >= 5) & (tmp <= 10)]\n",
        "print(resultado)"
      ],
      "metadata": {
        "colab": {
          "base_uri": "https://localhost:8080/"
        },
        "id": "S_dSGszDIoi5",
        "outputId": "6af06fcb-0067-4bbb-e89c-c7fe308489af"
      },
      "execution_count": null,
      "outputs": [
        {
          "output_type": "stream",
          "name": "stdout",
          "text": [
            "[ 5  6  7  8  9 10]\n"
          ]
        }
      ]
    },
    {
      "cell_type": "code",
      "source": [
        "# EJERFCICIO 21\n",
        "# How to make a python function that handles scalars to work on numpy arrays?\n",
        "# Hint\n",
        "# Desired Output:\n",
        "# a = np.array([5, 7, 9, 8, 6, 4, 5])\n",
        "# b = np.array([6, 3, 4, 8, 9, 7, 1])\n",
        "# pair_max(a, b)\n",
        "# #> array([ 6.,  7.,  9.,  8.,  9.,  7.,  5.])\n",
        "\n",
        "\n",
        "import numpy as np\n",
        "\n",
        "def maxx(x, y):\n",
        "    \"\"\"Get the maximum of two items\"\"\"\n",
        "    if x >= y:\n",
        "        return x\n",
        "    else:\n",
        "        return y\n",
        "\n",
        "pair_max = np.vectorize(maxx)\n",
        "\n",
        "a = np.array([5, 7, 9, 8, 6, 4, 5])\n",
        "b = np.array([6, 3, 4, 8, 9, 7, 1])\n",
        "result = pair_max(a, b)\n",
        "print(result) # Output: [6 7 9 8 9 7 5]"
      ],
      "metadata": {
        "colab": {
          "base_uri": "https://localhost:8080/"
        },
        "id": "TDzTiNYSJLQO",
        "outputId": "37aab882-0dde-4108-91f9-95829c203fa5"
      },
      "execution_count": null,
      "outputs": [
        {
          "output_type": "stream",
          "name": "stdout",
          "text": [
            "[6 7 9 8 9 7 5]\n"
          ]
        }
      ]
    },
    {
      "cell_type": "code",
      "source": [
        "# EJERCICIO 22\n",
        "# Swap columns 1 and 2 in the array arr.\n",
        "# Hint\n",
        "# Desired Output:\n",
        "# [[0 2 1]\n",
        "#  [3 5 4]\n",
        "#  [6 8 7]]\n",
        "\n",
        "arr = np.arange(9).reshape(3,3)\n",
        "print(\"Matriz original:\")\n",
        "print(arr)\n",
        "\n",
        "arr[:, [1, 2]] = arr[:, [2, 1]]\n",
        "print(\"Matriz con columnas intercambiadas:\")\n",
        "print(arr)"
      ],
      "metadata": {
        "colab": {
          "base_uri": "https://localhost:8080/"
        },
        "id": "g2kq9GekK6Zy",
        "outputId": "caa61e26-5187-4ba3-8884-ff933daf9dba"
      },
      "execution_count": null,
      "outputs": [
        {
          "output_type": "stream",
          "name": "stdout",
          "text": [
            "Matriz original:\n",
            "[[0 1 2]\n",
            " [3 4 5]\n",
            " [6 7 8]]\n",
            "Matriz con columnas intercambiadas:\n",
            "[[0 2 1]\n",
            " [3 5 4]\n",
            " [6 8 7]]\n"
          ]
        }
      ]
    },
    {
      "cell_type": "code",
      "source": [
        "# Create a 2D array of shape 5x3 to contain random decimal numbers between 5 and 10.\n",
        "# Hint\n",
        "# The desired Output should be like the following one:\n",
        "#  [[ 8.50061025  9.10531502  6.85867783]\n",
        "#   [ 9.76262069  9.87717411  7.13466701]\n",
        "#   [ 7.48966403  8.33409158  6.16808631]\n",
        "#   [ 7.75010551  9.94535696  5.27373226]\n",
        "#   [ 8.0850361   5.56165518  7.31244004]]\n",
        "\n",
        "matriz = np.random.uniform(5, 10, size=(5, 3))\n",
        "\n",
        "print(matriz)"
      ],
      "metadata": {
        "colab": {
          "base_uri": "https://localhost:8080/"
        },
        "id": "RHHWM3BoLl4d",
        "outputId": "7cecf366-e14c-4949-d52b-29f22185dcbc"
      },
      "execution_count": null,
      "outputs": [
        {
          "output_type": "stream",
          "name": "stdout",
          "text": [
            "[[5.72780653 7.3593916  5.74260408]\n",
            " [6.77850643 7.07430961 8.81400592]\n",
            " [5.03678229 9.31064003 5.37864836]\n",
            " [7.59667686 9.32735162 7.93500233]\n",
            " [5.28227611 9.10726664 5.12285022]]\n"
          ]
        }
      ]
    }
  ]
}